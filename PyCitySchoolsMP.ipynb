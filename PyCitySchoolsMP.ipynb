{
 "cells": [
  {
   "cell_type": "code",
   "execution_count": 113,
   "metadata": {
    "scrolled": true
   },
   "outputs": [
    {
     "data": {
      "text/html": [
       "<div>\n",
       "<style scoped>\n",
       "    .dataframe tbody tr th:only-of-type {\n",
       "        vertical-align: middle;\n",
       "    }\n",
       "\n",
       "    .dataframe tbody tr th {\n",
       "        vertical-align: top;\n",
       "    }\n",
       "\n",
       "    .dataframe thead th {\n",
       "        text-align: right;\n",
       "    }\n",
       "</style>\n",
       "<table border=\"1\" class=\"dataframe\">\n",
       "  <thead>\n",
       "    <tr style=\"text-align: right;\">\n",
       "      <th></th>\n",
       "      <th>School ID</th>\n",
       "      <th>school_name</th>\n",
       "      <th>type</th>\n",
       "      <th>size</th>\n",
       "      <th>budget</th>\n",
       "    </tr>\n",
       "  </thead>\n",
       "  <tbody>\n",
       "    <tr>\n",
       "      <th>0</th>\n",
       "      <td>0</td>\n",
       "      <td>Huang High School</td>\n",
       "      <td>District</td>\n",
       "      <td>2917</td>\n",
       "      <td>1910635</td>\n",
       "    </tr>\n",
       "    <tr>\n",
       "      <th>1</th>\n",
       "      <td>1</td>\n",
       "      <td>Figueroa High School</td>\n",
       "      <td>District</td>\n",
       "      <td>2949</td>\n",
       "      <td>1884411</td>\n",
       "    </tr>\n",
       "    <tr>\n",
       "      <th>2</th>\n",
       "      <td>2</td>\n",
       "      <td>Shelton High School</td>\n",
       "      <td>Charter</td>\n",
       "      <td>1761</td>\n",
       "      <td>1056600</td>\n",
       "    </tr>\n",
       "    <tr>\n",
       "      <th>3</th>\n",
       "      <td>3</td>\n",
       "      <td>Hernandez High School</td>\n",
       "      <td>District</td>\n",
       "      <td>4635</td>\n",
       "      <td>3022020</td>\n",
       "    </tr>\n",
       "    <tr>\n",
       "      <th>4</th>\n",
       "      <td>4</td>\n",
       "      <td>Griffin High School</td>\n",
       "      <td>Charter</td>\n",
       "      <td>1468</td>\n",
       "      <td>917500</td>\n",
       "    </tr>\n",
       "    <tr>\n",
       "      <th>5</th>\n",
       "      <td>5</td>\n",
       "      <td>Wilson High School</td>\n",
       "      <td>Charter</td>\n",
       "      <td>2283</td>\n",
       "      <td>1319574</td>\n",
       "    </tr>\n",
       "    <tr>\n",
       "      <th>6</th>\n",
       "      <td>6</td>\n",
       "      <td>Cabrera High School</td>\n",
       "      <td>Charter</td>\n",
       "      <td>1858</td>\n",
       "      <td>1081356</td>\n",
       "    </tr>\n",
       "    <tr>\n",
       "      <th>7</th>\n",
       "      <td>7</td>\n",
       "      <td>Bailey High School</td>\n",
       "      <td>District</td>\n",
       "      <td>4976</td>\n",
       "      <td>3124928</td>\n",
       "    </tr>\n",
       "    <tr>\n",
       "      <th>8</th>\n",
       "      <td>8</td>\n",
       "      <td>Holden High School</td>\n",
       "      <td>Charter</td>\n",
       "      <td>427</td>\n",
       "      <td>248087</td>\n",
       "    </tr>\n",
       "    <tr>\n",
       "      <th>9</th>\n",
       "      <td>9</td>\n",
       "      <td>Pena High School</td>\n",
       "      <td>Charter</td>\n",
       "      <td>962</td>\n",
       "      <td>585858</td>\n",
       "    </tr>\n",
       "    <tr>\n",
       "      <th>10</th>\n",
       "      <td>10</td>\n",
       "      <td>Wright High School</td>\n",
       "      <td>Charter</td>\n",
       "      <td>1800</td>\n",
       "      <td>1049400</td>\n",
       "    </tr>\n",
       "    <tr>\n",
       "      <th>11</th>\n",
       "      <td>11</td>\n",
       "      <td>Rodriguez High School</td>\n",
       "      <td>District</td>\n",
       "      <td>3999</td>\n",
       "      <td>2547363</td>\n",
       "    </tr>\n",
       "    <tr>\n",
       "      <th>12</th>\n",
       "      <td>12</td>\n",
       "      <td>Johnson High School</td>\n",
       "      <td>District</td>\n",
       "      <td>4761</td>\n",
       "      <td>3094650</td>\n",
       "    </tr>\n",
       "    <tr>\n",
       "      <th>13</th>\n",
       "      <td>13</td>\n",
       "      <td>Ford High School</td>\n",
       "      <td>District</td>\n",
       "      <td>2739</td>\n",
       "      <td>1763916</td>\n",
       "    </tr>\n",
       "    <tr>\n",
       "      <th>14</th>\n",
       "      <td>14</td>\n",
       "      <td>Thomas High School</td>\n",
       "      <td>Charter</td>\n",
       "      <td>1635</td>\n",
       "      <td>1043130</td>\n",
       "    </tr>\n",
       "  </tbody>\n",
       "</table>\n",
       "</div>"
      ],
      "text/plain": [
       "    School ID            school_name      type  size   budget\n",
       "0           0      Huang High School  District  2917  1910635\n",
       "1           1   Figueroa High School  District  2949  1884411\n",
       "2           2    Shelton High School   Charter  1761  1056600\n",
       "3           3  Hernandez High School  District  4635  3022020\n",
       "4           4    Griffin High School   Charter  1468   917500\n",
       "5           5     Wilson High School   Charter  2283  1319574\n",
       "6           6    Cabrera High School   Charter  1858  1081356\n",
       "7           7     Bailey High School  District  4976  3124928\n",
       "8           8     Holden High School   Charter   427   248087\n",
       "9           9       Pena High School   Charter   962   585858\n",
       "10         10     Wright High School   Charter  1800  1049400\n",
       "11         11  Rodriguez High School  District  3999  2547363\n",
       "12         12    Johnson High School  District  4761  3094650\n",
       "13         13       Ford High School  District  2739  1763916\n",
       "14         14     Thomas High School   Charter  1635  1043130"
      ]
     },
     "execution_count": 113,
     "metadata": {},
     "output_type": "execute_result"
    }
   ],
   "source": [
    "# Dependencies and Setup\n",
    "import pandas as pd\n",
    "import numpy as np\n",
    "\n",
    "# File to Load (Remember to Change These)\n",
    "school_file = \"Resources/schools_complete.csv\"\n",
    "student_file = \"Resources/students_complete.csv\"\n",
    "\n",
    "# Read School and Student Data File and store into Pandas Data Frames\n",
    "school_file = pd.read_csv(school_file)\n",
    "student_file = pd.read_csv(student_file)\n",
    "\n",
    "\n",
    "school_file.head()\n",
    "school_file"
   ]
  },
  {
   "cell_type": "code",
   "execution_count": 114,
   "metadata": {},
   "outputs": [
    {
     "name": "stdout",
     "output_type": "stream",
     "text": [
      "24649428\n"
     ]
    }
   ],
   "source": [
    "Total_Budget = school_file['budget'].sum()\n",
    "print(Total_Budget)"
   ]
  },
  {
   "cell_type": "code",
   "execution_count": 115,
   "metadata": {},
   "outputs": [
    {
     "data": {
      "text/plain": [
       "(39170, 7)"
      ]
     },
     "execution_count": 115,
     "metadata": {},
     "output_type": "execute_result"
    }
   ],
   "source": [
    "student_file.head()\n",
    "student_file.shape"
   ]
  },
  {
   "cell_type": "code",
   "execution_count": 116,
   "metadata": {},
   "outputs": [
    {
     "name": "stdout",
     "output_type": "stream",
     "text": [
      "<class 'pandas.core.frame.DataFrame'>\n",
      "RangeIndex: 39170 entries, 0 to 39169\n",
      "Data columns (total 7 columns):\n",
      "Student ID       39170 non-null int64\n",
      "student_name     39170 non-null object\n",
      "gender           39170 non-null object\n",
      "grade            39170 non-null object\n",
      "school_name      39170 non-null object\n",
      "reading_score    39170 non-null int64\n",
      "math_score       39170 non-null int64\n",
      "dtypes: int64(3), object(4)\n",
      "memory usage: 2.1+ MB\n"
     ]
    }
   ],
   "source": [
    "student_file.info()"
   ]
  },
  {
   "cell_type": "code",
   "execution_count": 118,
   "metadata": {},
   "outputs": [
    {
     "name": "stdout",
     "output_type": "stream",
     "text": [
      "<class 'pandas.core.frame.DataFrame'>\n",
      "RangeIndex: 15 entries, 0 to 14\n",
      "Data columns (total 5 columns):\n",
      "School ID      15 non-null int64\n",
      "school_name    15 non-null object\n",
      "type           15 non-null object\n",
      "size           15 non-null int64\n",
      "budget         15 non-null int64\n",
      "dtypes: int64(3), object(2)\n",
      "memory usage: 680.0+ bytes\n"
     ]
    }
   ],
   "source": [
    "school_file.info()"
   ]
  },
  {
   "cell_type": "code",
   "execution_count": 119,
   "metadata": {},
   "outputs": [],
   "source": [
    "# Combine the data into a single dataset\n",
    "school_file = pd.merge(student_file, school_file, how=\"left\", on=[\"school_name\", \"school_name\"])"
   ]
  },
  {
   "cell_type": "code",
   "execution_count": 120,
   "metadata": {},
   "outputs": [],
   "source": [
    "#District Summary\n",
    "#Calculate the total number of schools, Calculate the total number of students, total budget,\n",
    "#average math score, average reading score,\n",
    "#overall passing rate (overall average score), i.e. (avg. math score + avg. reading score)/2, \n",
    "#percentage of students with a passing math score (70 or greater),\n",
    "#Calculate the percentage of students with a passing reading score (70 or greater), \n",
    "#Create a dataframe to hold the above results\n",
    "\n",
    "# Total Schools Total Students Total Budget Average Math Score Average Reading Score\n",
    "# % Passing Math % Passing Reading % Overall Passing Rate"
   ]
  },
  {
   "cell_type": "code",
   "execution_count": 124,
   "metadata": {},
   "outputs": [
    {
     "data": {
      "text/html": [
       "<div>\n",
       "<style scoped>\n",
       "    .dataframe tbody tr th:only-of-type {\n",
       "        vertical-align: middle;\n",
       "    }\n",
       "\n",
       "    .dataframe tbody tr th {\n",
       "        vertical-align: top;\n",
       "    }\n",
       "\n",
       "    .dataframe thead th {\n",
       "        text-align: right;\n",
       "    }\n",
       "</style>\n",
       "<table border=\"1\" class=\"dataframe\">\n",
       "  <thead>\n",
       "    <tr style=\"text-align: right;\">\n",
       "      <th></th>\n",
       "      <th>Student ID</th>\n",
       "      <th>student_name</th>\n",
       "      <th>gender</th>\n",
       "      <th>grade</th>\n",
       "      <th>school_name</th>\n",
       "      <th>reading_score</th>\n",
       "      <th>math_score</th>\n",
       "      <th>School ID</th>\n",
       "      <th>type</th>\n",
       "      <th>size</th>\n",
       "      <th>budget</th>\n",
       "    </tr>\n",
       "  </thead>\n",
       "  <tbody>\n",
       "    <tr>\n",
       "      <th>0</th>\n",
       "      <td>0</td>\n",
       "      <td>Paul Bradley</td>\n",
       "      <td>M</td>\n",
       "      <td>9th</td>\n",
       "      <td>Huang High School</td>\n",
       "      <td>66</td>\n",
       "      <td>79</td>\n",
       "      <td>0</td>\n",
       "      <td>District</td>\n",
       "      <td>2917</td>\n",
       "      <td>1910635</td>\n",
       "    </tr>\n",
       "    <tr>\n",
       "      <th>1</th>\n",
       "      <td>1</td>\n",
       "      <td>Victor Smith</td>\n",
       "      <td>M</td>\n",
       "      <td>12th</td>\n",
       "      <td>Huang High School</td>\n",
       "      <td>94</td>\n",
       "      <td>61</td>\n",
       "      <td>0</td>\n",
       "      <td>District</td>\n",
       "      <td>2917</td>\n",
       "      <td>1910635</td>\n",
       "    </tr>\n",
       "    <tr>\n",
       "      <th>2</th>\n",
       "      <td>2</td>\n",
       "      <td>Kevin Rodriguez</td>\n",
       "      <td>M</td>\n",
       "      <td>12th</td>\n",
       "      <td>Huang High School</td>\n",
       "      <td>90</td>\n",
       "      <td>60</td>\n",
       "      <td>0</td>\n",
       "      <td>District</td>\n",
       "      <td>2917</td>\n",
       "      <td>1910635</td>\n",
       "    </tr>\n",
       "    <tr>\n",
       "      <th>3</th>\n",
       "      <td>3</td>\n",
       "      <td>Dr. Richard Scott</td>\n",
       "      <td>M</td>\n",
       "      <td>12th</td>\n",
       "      <td>Huang High School</td>\n",
       "      <td>67</td>\n",
       "      <td>58</td>\n",
       "      <td>0</td>\n",
       "      <td>District</td>\n",
       "      <td>2917</td>\n",
       "      <td>1910635</td>\n",
       "    </tr>\n",
       "    <tr>\n",
       "      <th>4</th>\n",
       "      <td>4</td>\n",
       "      <td>Bonnie Ray</td>\n",
       "      <td>F</td>\n",
       "      <td>9th</td>\n",
       "      <td>Huang High School</td>\n",
       "      <td>97</td>\n",
       "      <td>84</td>\n",
       "      <td>0</td>\n",
       "      <td>District</td>\n",
       "      <td>2917</td>\n",
       "      <td>1910635</td>\n",
       "    </tr>\n",
       "  </tbody>\n",
       "</table>\n",
       "</div>"
      ],
      "text/plain": [
       "   Student ID       student_name gender grade        school_name  \\\n",
       "0           0       Paul Bradley      M   9th  Huang High School   \n",
       "1           1       Victor Smith      M  12th  Huang High School   \n",
       "2           2    Kevin Rodriguez      M  12th  Huang High School   \n",
       "3           3  Dr. Richard Scott      M  12th  Huang High School   \n",
       "4           4         Bonnie Ray      F   9th  Huang High School   \n",
       "\n",
       "   reading_score  math_score  School ID      type  size   budget  \n",
       "0             66          79          0  District  2917  1910635  \n",
       "1             94          61          0  District  2917  1910635  \n",
       "2             90          60          0  District  2917  1910635  \n",
       "3             67          58          0  District  2917  1910635  \n",
       "4             97          84          0  District  2917  1910635  "
      ]
     },
     "execution_count": 124,
     "metadata": {},
     "output_type": "execute_result"
    }
   ],
   "source": [
    "school_file.head()"
   ]
  },
  {
   "cell_type": "code",
   "execution_count": 125,
   "metadata": {},
   "outputs": [
    {
     "name": "stdout",
     "output_type": "stream",
     "text": [
      "15\n",
      "39170\n"
     ]
    }
   ],
   "source": [
    "Total_Schools = school_file['school_name'].nunique()\n",
    "print(Total_Schools)\n",
    "Total_Students = school_file['Student ID'].nunique()\n",
    "print(Total_Students)"
   ]
  },
  {
   "cell_type": "code",
   "execution_count": 126,
   "metadata": {
    "scrolled": true
   },
   "outputs": [
    {
     "name": "stdout",
     "output_type": "stream",
     "text": [
      "78.98537145774827\n"
     ]
    }
   ],
   "source": [
    "Average_Math_Score = school_file.loc[:,\"math_score\"].mean()\n",
    "print(Average_Math_Score)"
   ]
  },
  {
   "cell_type": "code",
   "execution_count": 127,
   "metadata": {},
   "outputs": [
    {
     "name": "stdout",
     "output_type": "stream",
     "text": [
      "81.87784018381414\n"
     ]
    }
   ],
   "source": [
    "Average_Reading_Score = school_file.loc[:,\"reading_score\"].mean()\n",
    "print(Average_Reading_Score)"
   ]
  },
  {
   "cell_type": "code",
   "execution_count": 128,
   "metadata": {},
   "outputs": [
    {
     "name": "stdout",
     "output_type": "stream",
     "text": [
      "80.43160582078121\n"
     ]
    }
   ],
   "source": [
    "#Calculate the overall passing rate (overall average score), i.e. (avg. math score + avg. reading score)/2\n",
    "Overall_Passing_Rate = (Average_Reading_Score + Average_Math_Score)/2\n",
    "print(Overall_Passing_Rate)"
   ]
  },
  {
   "cell_type": "code",
   "execution_count": 130,
   "metadata": {},
   "outputs": [
    {
     "name": "stdout",
     "output_type": "stream",
     "text": [
      "85.80546336482001\n"
     ]
    }
   ],
   "source": [
    "pass_read = school_file['reading_score'] >= 70\n",
    "pass_math = school_file['math_score'] >= 70\n",
    "print(np.count_nonzero(pass_read)/Total_Students * 100)\n"
   ]
  },
  {
   "cell_type": "code",
   "execution_count": 131,
   "metadata": {},
   "outputs": [
    {
     "name": "stdout",
     "output_type": "stream",
     "text": [
      "74.9808526933878\n"
     ]
    }
   ],
   "source": [
    "print(np.count_nonzero(pass_math)/Total_Students * 100)"
   ]
  },
  {
   "cell_type": "code",
   "execution_count": 133,
   "metadata": {},
   "outputs": [
    {
     "data": {
      "text/plain": [
       "Index(['Student ID', 'student_name', 'gender', 'grade', 'school_name',\n",
       "       'reading_score', 'math_score', 'School ID', 'type', 'size', 'budget'],\n",
       "      dtype='object')"
      ]
     },
     "execution_count": 133,
     "metadata": {},
     "output_type": "execute_result"
    }
   ],
   "source": [
    "#get a reference of the column names\n",
    "school_file.columns"
   ]
  },
  {
   "cell_type": "code",
   "execution_count": 134,
   "metadata": {},
   "outputs": [
    {
     "data": {
      "text/plain": [
       "80.43160582078121"
      ]
     },
     "execution_count": 134,
     "metadata": {},
     "output_type": "execute_result"
    }
   ],
   "source": [
    "Total_Schools = school_file['school_name'].nunique()\n",
    "Total_Schools\n",
    "\n",
    "Total_Students = school_file['Student ID'].nunique()\n",
    "Total_Students\n",
    "\n",
    "Average_Math_Score = school_file.loc[:,\"math_score\"].mean()\n",
    "Average_Math_Score\n",
    "\n",
    "Average_Reading_Score = school_file.loc[:,\"reading_score\"].mean()\n",
    "Average_Reading_Score\n",
    "\n",
    "Overall_Passing_Rate = (Average_Reading_Score + Average_Math_Score)/2\n",
    "Overall_Passing_Rate"
   ]
  },
  {
   "cell_type": "code",
   "execution_count": 135,
   "metadata": {},
   "outputs": [
    {
     "name": "stdout",
     "output_type": "stream",
     "text": [
      "85.80546336482001\n"
     ]
    }
   ],
   "source": [
    "pass_read = school_file['reading_score'] >= 70\n",
    "pass_read = pass_read/Total_Students * 100\n",
    "Passing_R = np.count_nonzero(pass_read)/Total_Students * 100\n",
    "print(Passing_R)"
   ]
  },
  {
   "cell_type": "code",
   "execution_count": 136,
   "metadata": {},
   "outputs": [
    {
     "name": "stdout",
     "output_type": "stream",
     "text": [
      "74.9808526933878\n"
     ]
    }
   ],
   "source": [
    "pass_math = school_file['math_score'] >= 70\n",
    "pass_math = pass_math/Total_Students * 100\n",
    "Passing_M = np.count_nonzero(pass_math)/Total_Students * 100\n",
    "print(Passing_M)"
   ]
  },
  {
   "cell_type": "code",
   "execution_count": 137,
   "metadata": {},
   "outputs": [
    {
     "name": "stdout",
     "output_type": "stream",
     "text": [
      "80.43160582078121\n"
     ]
    }
   ],
   "source": [
    "Passing_O = (Average_Reading_Score + Average_Math_Score)/2\n",
    "print(Passing_O)"
   ]
  },
  {
   "cell_type": "code",
   "execution_count": 138,
   "metadata": {},
   "outputs": [
    {
     "name": "stdout",
     "output_type": "stream",
     "text": [
      "Total_Schools 15 Total_Students 39170 Total_Budget 24649428\n"
     ]
    }
   ],
   "source": [
    "print(\"Total_Schools\" , Total_Schools, \"Total_Students\" , Total_Students, \"Total_Budget\" , Total_Budget)"
   ]
  },
  {
   "cell_type": "code",
   "execution_count": 139,
   "metadata": {},
   "outputs": [
    {
     "name": "stdout",
     "output_type": "stream",
     "text": [
      "Average_Math_Score 78.98537145774827 Average_Reading_Score 81.87784018381414\n"
     ]
    }
   ],
   "source": [
    "print(\"Average_Math_Score\" , Average_Math_Score, \"Average_Reading_Score\" , Average_Reading_Score)"
   ]
  },
  {
   "cell_type": "code",
   "execution_count": 140,
   "metadata": {
    "scrolled": true
   },
   "outputs": [
    {
     "name": "stdout",
     "output_type": "stream",
     "text": [
      "Passing_M 74.9808526933878 Passing_R 85.80546336482001 Overall_Passing_Rate 80.43160582078121 Passing_O 80.43160582078121\n"
     ]
    }
   ],
   "source": [
    "print( \"Passing_M\",Passing_M,\"Passing_R\" ,Passing_R,\"Overall_Passing_Rate\" ,Overall_Passing_Rate,\"Passing_O\",Passing_O)"
   ]
  },
  {
   "cell_type": "code",
   "execution_count": 141,
   "metadata": {},
   "outputs": [
    {
     "data": {
      "text/html": [
       "<div>\n",
       "<style scoped>\n",
       "    .dataframe tbody tr th:only-of-type {\n",
       "        vertical-align: middle;\n",
       "    }\n",
       "\n",
       "    .dataframe tbody tr th {\n",
       "        vertical-align: top;\n",
       "    }\n",
       "\n",
       "    .dataframe thead th {\n",
       "        text-align: right;\n",
       "    }\n",
       "</style>\n",
       "<table border=\"1\" class=\"dataframe\">\n",
       "  <thead>\n",
       "    <tr style=\"text-align: right;\">\n",
       "      <th></th>\n",
       "      <th>Total_Schools</th>\n",
       "      <th>Total_Students</th>\n",
       "      <th>Total_Budget</th>\n",
       "      <th>Average_Math_Score</th>\n",
       "      <th>Average_Reading_Score</th>\n",
       "      <th>Passing_M</th>\n",
       "      <th>Passing_R</th>\n",
       "      <th>Overall_Passing_Rate</th>\n",
       "      <th>Passing_O</th>\n",
       "    </tr>\n",
       "  </thead>\n",
       "  <tbody>\n",
       "    <tr>\n",
       "      <th>0</th>\n",
       "      <td>15</td>\n",
       "      <td>39170</td>\n",
       "      <td>24649428</td>\n",
       "      <td>78.985371</td>\n",
       "      <td>81.87784</td>\n",
       "      <td>74.980853</td>\n",
       "      <td>85.805463</td>\n",
       "      <td>80.431606</td>\n",
       "      <td>80.431606</td>\n",
       "    </tr>\n",
       "  </tbody>\n",
       "</table>\n",
       "</div>"
      ],
      "text/plain": [
       "   Total_Schools  Total_Students  Total_Budget  Average_Math_Score  \\\n",
       "0             15           39170      24649428           78.985371   \n",
       "\n",
       "   Average_Reading_Score  Passing_M  Passing_R  Overall_Passing_Rate  \\\n",
       "0               81.87784  74.980853  85.805463             80.431606   \n",
       "\n",
       "   Passing_O  \n",
       "0  80.431606  "
      ]
     },
     "execution_count": 141,
     "metadata": {},
     "output_type": "execute_result"
    }
   ],
   "source": [
    "# Creating a summary DataFrame using above values\n",
    "summary_df = pd.DataFrame({\"Total_Schools\":[Total_Schools],\n",
    "                           \"Total_Students\": [Total_Students],\n",
    "                          \"Total_Budget\": [Total_Budget],\n",
    "                           \"Average_Math_Score\": [Average_Math_Score],\n",
    "                           \"Average_Reading_Score\": [Average_Reading_Score],\n",
    "                           \"Passing_M\": [Passing_M],\n",
    "                           \"Passing_R\" : [Passing_R],\n",
    "                           \"Overall_Passing_Rate\" : [Overall_Passing_Rate],\n",
    "                           \"Passing_O\" : [Passing_O]})\n",
    "summary_df"
   ]
  },
  {
   "cell_type": "code",
   "execution_count": 143,
   "metadata": {},
   "outputs": [
    {
     "data": {
      "text/plain": [
       "school_name\n",
       "Huang High School     District\n",
       "Huang High School     District\n",
       "Huang High School     District\n",
       "Huang High School     District\n",
       "Huang High School     District\n",
       "Huang High School     District\n",
       "Huang High School     District\n",
       "Huang High School     District\n",
       "Huang High School     District\n",
       "Huang High School     District\n",
       "Huang High School     District\n",
       "Huang High School     District\n",
       "Huang High School     District\n",
       "Huang High School     District\n",
       "Huang High School     District\n",
       "Huang High School     District\n",
       "Huang High School     District\n",
       "Huang High School     District\n",
       "Huang High School     District\n",
       "Huang High School     District\n",
       "Huang High School     District\n",
       "Huang High School     District\n",
       "Huang High School     District\n",
       "Huang High School     District\n",
       "Huang High School     District\n",
       "Huang High School     District\n",
       "Huang High School     District\n",
       "Huang High School     District\n",
       "Huang High School     District\n",
       "Huang High School     District\n",
       "                        ...   \n",
       "Thomas High School     Charter\n",
       "Thomas High School     Charter\n",
       "Thomas High School     Charter\n",
       "Thomas High School     Charter\n",
       "Thomas High School     Charter\n",
       "Thomas High School     Charter\n",
       "Thomas High School     Charter\n",
       "Thomas High School     Charter\n",
       "Thomas High School     Charter\n",
       "Thomas High School     Charter\n",
       "Thomas High School     Charter\n",
       "Thomas High School     Charter\n",
       "Thomas High School     Charter\n",
       "Thomas High School     Charter\n",
       "Thomas High School     Charter\n",
       "Thomas High School     Charter\n",
       "Thomas High School     Charter\n",
       "Thomas High School     Charter\n",
       "Thomas High School     Charter\n",
       "Thomas High School     Charter\n",
       "Thomas High School     Charter\n",
       "Thomas High School     Charter\n",
       "Thomas High School     Charter\n",
       "Thomas High School     Charter\n",
       "Thomas High School     Charter\n",
       "Thomas High School     Charter\n",
       "Thomas High School     Charter\n",
       "Thomas High School     Charter\n",
       "Thomas High School     Charter\n",
       "Thomas High School     Charter\n",
       "Name: type, Length: 39170, dtype: object"
      ]
     },
     "execution_count": 143,
     "metadata": {},
     "output_type": "execute_result"
    }
   ],
   "source": [
    "school_type = school_file.set_index([\"school_name\"])[\"type\"]\n",
    "school_type"
   ]
  },
  {
   "cell_type": "code",
   "execution_count": 144,
   "metadata": {},
   "outputs": [
    {
     "name": "stdout",
     "output_type": "stream",
     "text": [
      "<pandas.core.groupby.groupby.DataFrameGroupBy object at 0x122c7e2e8>\n"
     ]
    },
    {
     "data": {
      "text/html": [
       "<div>\n",
       "<style scoped>\n",
       "    .dataframe tbody tr th:only-of-type {\n",
       "        vertical-align: middle;\n",
       "    }\n",
       "\n",
       "    .dataframe tbody tr th {\n",
       "        vertical-align: top;\n",
       "    }\n",
       "\n",
       "    .dataframe thead th {\n",
       "        text-align: right;\n",
       "    }\n",
       "</style>\n",
       "<table border=\"1\" class=\"dataframe\">\n",
       "  <thead>\n",
       "    <tr style=\"text-align: right;\">\n",
       "      <th></th>\n",
       "      <th>Student ID</th>\n",
       "      <th>student_name</th>\n",
       "      <th>gender</th>\n",
       "      <th>grade</th>\n",
       "      <th>reading_score</th>\n",
       "      <th>math_score</th>\n",
       "      <th>School ID</th>\n",
       "      <th>type</th>\n",
       "      <th>size</th>\n",
       "      <th>budget</th>\n",
       "    </tr>\n",
       "    <tr>\n",
       "      <th>school_name</th>\n",
       "      <th></th>\n",
       "      <th></th>\n",
       "      <th></th>\n",
       "      <th></th>\n",
       "      <th></th>\n",
       "      <th></th>\n",
       "      <th></th>\n",
       "      <th></th>\n",
       "      <th></th>\n",
       "      <th></th>\n",
       "    </tr>\n",
       "  </thead>\n",
       "  <tbody>\n",
       "    <tr>\n",
       "      <th>Bailey High School</th>\n",
       "      <td>4976</td>\n",
       "      <td>4976</td>\n",
       "      <td>4976</td>\n",
       "      <td>4976</td>\n",
       "      <td>4976</td>\n",
       "      <td>4976</td>\n",
       "      <td>4976</td>\n",
       "      <td>4976</td>\n",
       "      <td>4976</td>\n",
       "      <td>4976</td>\n",
       "    </tr>\n",
       "    <tr>\n",
       "      <th>Cabrera High School</th>\n",
       "      <td>1858</td>\n",
       "      <td>1858</td>\n",
       "      <td>1858</td>\n",
       "      <td>1858</td>\n",
       "      <td>1858</td>\n",
       "      <td>1858</td>\n",
       "      <td>1858</td>\n",
       "      <td>1858</td>\n",
       "      <td>1858</td>\n",
       "      <td>1858</td>\n",
       "    </tr>\n",
       "    <tr>\n",
       "      <th>Figueroa High School</th>\n",
       "      <td>2949</td>\n",
       "      <td>2949</td>\n",
       "      <td>2949</td>\n",
       "      <td>2949</td>\n",
       "      <td>2949</td>\n",
       "      <td>2949</td>\n",
       "      <td>2949</td>\n",
       "      <td>2949</td>\n",
       "      <td>2949</td>\n",
       "      <td>2949</td>\n",
       "    </tr>\n",
       "    <tr>\n",
       "      <th>Ford High School</th>\n",
       "      <td>2739</td>\n",
       "      <td>2739</td>\n",
       "      <td>2739</td>\n",
       "      <td>2739</td>\n",
       "      <td>2739</td>\n",
       "      <td>2739</td>\n",
       "      <td>2739</td>\n",
       "      <td>2739</td>\n",
       "      <td>2739</td>\n",
       "      <td>2739</td>\n",
       "    </tr>\n",
       "    <tr>\n",
       "      <th>Griffin High School</th>\n",
       "      <td>1468</td>\n",
       "      <td>1468</td>\n",
       "      <td>1468</td>\n",
       "      <td>1468</td>\n",
       "      <td>1468</td>\n",
       "      <td>1468</td>\n",
       "      <td>1468</td>\n",
       "      <td>1468</td>\n",
       "      <td>1468</td>\n",
       "      <td>1468</td>\n",
       "    </tr>\n",
       "    <tr>\n",
       "      <th>Hernandez High School</th>\n",
       "      <td>4635</td>\n",
       "      <td>4635</td>\n",
       "      <td>4635</td>\n",
       "      <td>4635</td>\n",
       "      <td>4635</td>\n",
       "      <td>4635</td>\n",
       "      <td>4635</td>\n",
       "      <td>4635</td>\n",
       "      <td>4635</td>\n",
       "      <td>4635</td>\n",
       "    </tr>\n",
       "    <tr>\n",
       "      <th>Holden High School</th>\n",
       "      <td>427</td>\n",
       "      <td>427</td>\n",
       "      <td>427</td>\n",
       "      <td>427</td>\n",
       "      <td>427</td>\n",
       "      <td>427</td>\n",
       "      <td>427</td>\n",
       "      <td>427</td>\n",
       "      <td>427</td>\n",
       "      <td>427</td>\n",
       "    </tr>\n",
       "    <tr>\n",
       "      <th>Huang High School</th>\n",
       "      <td>2917</td>\n",
       "      <td>2917</td>\n",
       "      <td>2917</td>\n",
       "      <td>2917</td>\n",
       "      <td>2917</td>\n",
       "      <td>2917</td>\n",
       "      <td>2917</td>\n",
       "      <td>2917</td>\n",
       "      <td>2917</td>\n",
       "      <td>2917</td>\n",
       "    </tr>\n",
       "    <tr>\n",
       "      <th>Johnson High School</th>\n",
       "      <td>4761</td>\n",
       "      <td>4761</td>\n",
       "      <td>4761</td>\n",
       "      <td>4761</td>\n",
       "      <td>4761</td>\n",
       "      <td>4761</td>\n",
       "      <td>4761</td>\n",
       "      <td>4761</td>\n",
       "      <td>4761</td>\n",
       "      <td>4761</td>\n",
       "    </tr>\n",
       "    <tr>\n",
       "      <th>Pena High School</th>\n",
       "      <td>962</td>\n",
       "      <td>962</td>\n",
       "      <td>962</td>\n",
       "      <td>962</td>\n",
       "      <td>962</td>\n",
       "      <td>962</td>\n",
       "      <td>962</td>\n",
       "      <td>962</td>\n",
       "      <td>962</td>\n",
       "      <td>962</td>\n",
       "    </tr>\n",
       "    <tr>\n",
       "      <th>Rodriguez High School</th>\n",
       "      <td>3999</td>\n",
       "      <td>3999</td>\n",
       "      <td>3999</td>\n",
       "      <td>3999</td>\n",
       "      <td>3999</td>\n",
       "      <td>3999</td>\n",
       "      <td>3999</td>\n",
       "      <td>3999</td>\n",
       "      <td>3999</td>\n",
       "      <td>3999</td>\n",
       "    </tr>\n",
       "    <tr>\n",
       "      <th>Shelton High School</th>\n",
       "      <td>1761</td>\n",
       "      <td>1761</td>\n",
       "      <td>1761</td>\n",
       "      <td>1761</td>\n",
       "      <td>1761</td>\n",
       "      <td>1761</td>\n",
       "      <td>1761</td>\n",
       "      <td>1761</td>\n",
       "      <td>1761</td>\n",
       "      <td>1761</td>\n",
       "    </tr>\n",
       "    <tr>\n",
       "      <th>Thomas High School</th>\n",
       "      <td>1635</td>\n",
       "      <td>1635</td>\n",
       "      <td>1635</td>\n",
       "      <td>1635</td>\n",
       "      <td>1635</td>\n",
       "      <td>1635</td>\n",
       "      <td>1635</td>\n",
       "      <td>1635</td>\n",
       "      <td>1635</td>\n",
       "      <td>1635</td>\n",
       "    </tr>\n",
       "    <tr>\n",
       "      <th>Wilson High School</th>\n",
       "      <td>2283</td>\n",
       "      <td>2283</td>\n",
       "      <td>2283</td>\n",
       "      <td>2283</td>\n",
       "      <td>2283</td>\n",
       "      <td>2283</td>\n",
       "      <td>2283</td>\n",
       "      <td>2283</td>\n",
       "      <td>2283</td>\n",
       "      <td>2283</td>\n",
       "    </tr>\n",
       "    <tr>\n",
       "      <th>Wright High School</th>\n",
       "      <td>1800</td>\n",
       "      <td>1800</td>\n",
       "      <td>1800</td>\n",
       "      <td>1800</td>\n",
       "      <td>1800</td>\n",
       "      <td>1800</td>\n",
       "      <td>1800</td>\n",
       "      <td>1800</td>\n",
       "      <td>1800</td>\n",
       "      <td>1800</td>\n",
       "    </tr>\n",
       "  </tbody>\n",
       "</table>\n",
       "</div>"
      ],
      "text/plain": [
       "                       Student ID  student_name  gender  grade  reading_score  \\\n",
       "school_name                                                                     \n",
       "Bailey High School           4976          4976    4976   4976           4976   \n",
       "Cabrera High School          1858          1858    1858   1858           1858   \n",
       "Figueroa High School         2949          2949    2949   2949           2949   \n",
       "Ford High School             2739          2739    2739   2739           2739   \n",
       "Griffin High School          1468          1468    1468   1468           1468   \n",
       "Hernandez High School        4635          4635    4635   4635           4635   \n",
       "Holden High School            427           427     427    427            427   \n",
       "Huang High School            2917          2917    2917   2917           2917   \n",
       "Johnson High School          4761          4761    4761   4761           4761   \n",
       "Pena High School              962           962     962    962            962   \n",
       "Rodriguez High School        3999          3999    3999   3999           3999   \n",
       "Shelton High School          1761          1761    1761   1761           1761   \n",
       "Thomas High School           1635          1635    1635   1635           1635   \n",
       "Wilson High School           2283          2283    2283   2283           2283   \n",
       "Wright High School           1800          1800    1800   1800           1800   \n",
       "\n",
       "                       math_score  School ID  type  size  budget  \n",
       "school_name                                                       \n",
       "Bailey High School           4976       4976  4976  4976    4976  \n",
       "Cabrera High School          1858       1858  1858  1858    1858  \n",
       "Figueroa High School         2949       2949  2949  2949    2949  \n",
       "Ford High School             2739       2739  2739  2739    2739  \n",
       "Griffin High School          1468       1468  1468  1468    1468  \n",
       "Hernandez High School        4635       4635  4635  4635    4635  \n",
       "Holden High School            427        427   427   427     427  \n",
       "Huang High School            2917       2917  2917  2917    2917  \n",
       "Johnson High School          4761       4761  4761  4761    4761  \n",
       "Pena High School              962        962   962   962     962  \n",
       "Rodriguez High School        3999       3999  3999  3999    3999  \n",
       "Shelton High School          1761       1761  1761  1761    1761  \n",
       "Thomas High School           1635       1635  1635  1635    1635  \n",
       "Wilson High School           2283       2283  2283  2283    2283  \n",
       "Wright High School           1800       1800  1800  1800    1800  "
      ]
     },
     "execution_count": 144,
     "metadata": {},
     "output_type": "execute_result"
    }
   ],
   "source": [
    "# Using GroupBy in order to separate the data into fields according to \"school\" values\n",
    "\n",
    "school_group = school_file.groupby('school_name')\n",
    "# The object returned is a \"GroupBy\" object and cannot be viewed normally...\n",
    "print(school_group)\n",
    "\n",
    "#group it by school\n",
    "\n",
    "school_group.count().head(15)"
   ]
  },
  {
   "cell_type": "code",
   "execution_count": 145,
   "metadata": {},
   "outputs": [
    {
     "data": {
      "text/plain": [
       "school_name\n",
       "Bailey High School       4976\n",
       "Cabrera High School      1858\n",
       "Figueroa High School     2949\n",
       "Ford High School         2739\n",
       "Griffin High School      1468\n",
       "Hernandez High School    4635\n",
       "Holden High School        427\n",
       "Huang High School        2917\n",
       "Johnson High School      4761\n",
       "Pena High School          962\n",
       "Rodriguez High School    3999\n",
       "Shelton High School      1761\n",
       "Thomas High School       1635\n",
       "Wilson High School       2283\n",
       "Wright High School       1800\n",
       "Name: Student ID, dtype: int64"
      ]
     },
     "execution_count": 145,
     "metadata": {},
     "output_type": "execute_result"
    }
   ],
   "source": [
    "# \"Total Student\" can now be summed up per school\n",
    "student_by_school = school_group[\"Student ID\"].nunique()\n",
    "student_by_school.head(15)"
   ]
  },
  {
   "cell_type": "code",
   "execution_count": null,
   "metadata": {},
   "outputs": [],
   "source": []
  },
  {
   "cell_type": "code",
   "execution_count": 150,
   "metadata": {},
   "outputs": [
    {
     "ename": "SyntaxError",
     "evalue": "invalid syntax (<ipython-input-150-b5cc4a14641e>, line 6)",
     "output_type": "error",
     "traceback": [
      "\u001b[0;36m  File \u001b[0;32m\"<ipython-input-150-b5cc4a14641e>\"\u001b[0;36m, line \u001b[0;32m6\u001b[0m\n\u001b[0;31m    \"Average Math Score\":,\u001b[0m\n\u001b[0m                         ^\u001b[0m\n\u001b[0;31mSyntaxError\u001b[0m\u001b[0;31m:\u001b[0m invalid syntax\n"
     ]
    }
   ],
   "source": [
    "# Creating a new DataFrame using both school name and student count\n",
    "school_summary = pd.DataFrame({\"Total Students\": student_by_school,\n",
    "                              \"School Type\": school_type,\n",
    "                              \"Total School Budget\": budget,\n",
    "                               \"Per Student Budget\": budget/student_by_school,\n",
    "                               \"Average Math Score\":,\n",
    "                               \"Average Reading Score\":,\n",
    "                               \"PC Passing Math\":\n",
    "                               \"PC Passing Math\":   })\n",
    "school_summary.head(15)"
   ]
  },
  {
   "cell_type": "code",
   "execution_count": null,
   "metadata": {},
   "outputs": [],
   "source": []
  }
 ],
 "metadata": {
  "kernelspec": {
   "display_name": "Python 3",
   "language": "python",
   "name": "python3"
  },
  "language_info": {
   "codemirror_mode": {
    "name": "ipython",
    "version": 3
   },
   "file_extension": ".py",
   "mimetype": "text/x-python",
   "name": "python",
   "nbconvert_exporter": "python",
   "pygments_lexer": "ipython3",
   "version": "3.7.1"
  }
 },
 "nbformat": 4,
 "nbformat_minor": 2
}
